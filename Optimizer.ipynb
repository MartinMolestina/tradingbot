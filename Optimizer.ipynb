{
 "cells": [
  {
   "cell_type": "markdown",
   "id": "ef8267e6-0e34-4b92-a7f4-09a36409fa3d",
   "metadata": {},
   "source": [
    "# Optimization\n"
   ]
  },
  {
   "cell_type": "code",
   "execution_count": null,
   "id": "5670d7c4-4587-411b-a753-5469dce72266",
   "metadata": {},
   "outputs": [],
   "source": [
    "def backtest(data, parameters, tc):\n",
    "    # prepare features\n",
    "    data['RSI'] = data.ta.rsi(close='close', length=RSI_length)"
   ]
  }
 ],
 "metadata": {
  "kernelspec": {
   "display_name": "Python 3 (ipykernel)",
   "language": "python",
   "name": "python3"
  },
  "language_info": {
   "codemirror_mode": {
    "name": "ipython",
    "version": 3
   },
   "file_extension": ".py",
   "mimetype": "text/x-python",
   "name": "python",
   "nbconvert_exporter": "python",
   "pygments_lexer": "ipython3",
   "version": "3.10.12"
  }
 },
 "nbformat": 4,
 "nbformat_minor": 5
}
